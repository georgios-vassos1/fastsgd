{
 "cells": [
  {
   "cell_type": "code",
   "execution_count": null,
   "metadata": {},
   "outputs": [],
   "source": [
    "!pip3 install -e /Users/gva/Documents/PhD/workspace/sgd/"
   ]
  },
  {
   "cell_type": "code",
   "execution_count": null,
   "metadata": {},
   "outputs": [],
   "source": [
    "from sgd import *\n",
    "import time\n",
    "import statsmodels.api as sm\n",
    "# from sklearn.preprocessing import normalize"
   ]
  },
  {
   "cell_type": "code",
   "execution_count": null,
   "metadata": {},
   "outputs": [],
   "source": [
    "n, p = int(1e+5), int(1e+1)"
   ]
  },
  {
   "cell_type": "markdown",
   "metadata": {},
   "source": [
    "# Implicit SGD procedure"
   ]
  },
  {
   "cell_type": "markdown",
   "metadata": {},
   "source": [
    "Below we repeat the expression of the implicit Stochastic Gradient Descent (SGD) update.\n",
    "\n",
    "$$\n",
    "\\theta_{n}=\\theta_{n-1}+\\gamma_{n}C_{n}\\nabla\\texttt{log}f(y_{n};x_{n},\\theta_{n})\n",
    "$$"
   ]
  },
  {
   "cell_type": "code",
   "execution_count": null,
   "metadata": {},
   "outputs": [],
   "source": [
    "def sgd_iteration(sgd_obj, D: data_set, m: model, averaging: bool=True) -> tuple:\n",
    "    N, p = D._X.shape\n",
    "    n_passes = sgd_obj.get_value_of(\"n_passes\")\n",
    "    good_gradient = True\n",
    "    good_validity = True\n",
    "    theta_old = np.ones(p) / 100.0\n",
    "    theta_old_ave = theta_old\n",
    "    max_iters = N * n_passes\n",
    "    converged = False\n",
    "\n",
    "    t = 1\n",
    "    while True:\n",
    "        theta_new = sgd_obj.update(t, theta_old, D, m, good_gradient)\n",
    "        if not averaging:\n",
    "            sgd_obj.sync_members(theta_new)\n",
    "            converged = sgd_obj.convergence(theta_new, theta_old)\n",
    "        else:\n",
    "            theta_new_ave = 0.5 * theta_old_ave + 0.5 * theta_new\n",
    "            sgd_obj.sync_members(theta_new_ave)\n",
    "            converged = sgd_obj.convergence(theta_new_ave, theta_old_ave)\n",
    "            theta_old_ave = theta_new_ave\n",
    "        if converged: break\n",
    "        theta_old = theta_new\n",
    "        if t == max_iters: break\n",
    "        t += 1\n",
    "    if averaging: theta_new = theta_new_ave\n",
    "    return theta_new, converged, sgd_obj"
   ]
  },
  {
   "cell_type": "markdown",
   "metadata": {},
   "source": [
    "## Asymptotic variance"
   ]
  },
  {
   "cell_type": "markdown",
   "metadata": {},
   "source": [
    "### Normal linear model"
   ]
  },
  {
   "cell_type": "markdown",
   "metadata": {},
   "source": [
    "First-order SGD is used for simplicity, namely $C_{n}=I$"
   ]
  },
  {
   "cell_type": "code",
   "execution_count": null,
   "metadata": {},
   "outputs": [],
   "source": [
    "N, p = 1500, 20\n",
    "theta = np.ones(p)"
   ]
  },
  {
   "cell_type": "code",
   "execution_count": null,
   "metadata": {},
   "outputs": [],
   "source": [
    "def simulate_normal_data(theta: np.ndarray, size: tuple=(1500, 20)) -> data_set:\n",
    "    N, p = size\n",
    "    # Create the covariance matrix with values between 0.5 and 5\n",
    "    S = np.eye(p) * np.random.uniform(0.5, 5, p)\n",
    "    # Generate the design matrix\n",
    "    X = np.random.multivariate_normal(mean=np.zeros(p), cov=S, size=N)\n",
    "    # Generate the response vector\n",
    "    Y = np.random.normal(X @ theta, 1, size=N)\n",
    "    return data_set(X, Y)"
   ]
  },
  {
   "cell_type": "code",
   "execution_count": null,
   "metadata": {},
   "outputs": [],
   "source": [
    "D = simulate_normal_data(theta=theta)"
   ]
  },
  {
   "cell_type": "code",
   "execution_count": null,
   "metadata": {},
   "outputs": [],
   "source": [
    "m = glm(\"gaussian\", \"identity\")"
   ]
  },
  {
   "cell_type": "code",
   "execution_count": null,
   "metadata": {},
   "outputs": [],
   "source": [
    "timer = time\n",
    "# n: number of observations\n",
    "# p: number of features\n",
    "N, p = D._X.shape\n",
    "gammas = np.linspace(1.2, 10, 25)\n",
    "\n",
    "details = {\n",
    "    \"lr\": \"one-dim\",\n",
    "    \"lr_controls\": {\n",
    "        \"scale\": None,\n",
    "        \"alpha\": 1.0,\n",
    "        \"gamma\": 1.0,\n",
    "        \"c\": 1.0\n",
    "    },\n",
    "    \"reltol\": 5e-4,\n",
    "    \"npasses\": 20,\n",
    "    \"size\": 10,\n",
    "    \"check\": True,\n",
    "    \"truth\": theta\n",
    "}\n",
    "\n",
    "result = np.empty((25, 150, p))\n",
    "for j, gamma in enumerate(gammas):\n",
    "    for i in range(150):\n",
    "        details[\"lr_controls\"][\"scale\"] = gamma\n",
    "        # tester = ExplicitSGD(n, p, timer, **details)\n",
    "        tester = ImplicitSGD(N, p, timer, **details)\n",
    "        result[j, i, :], _, _ = sgd_iteration(sgd_obj=tester, D=D, m=m, averaging=False)"
   ]
  },
  {
   "cell_type": "markdown",
   "metadata": {},
   "source": [
    "## Asymptotic normality"
   ]
  },
  {
   "cell_type": "code",
   "execution_count": null,
   "metadata": {},
   "outputs": [],
   "source": []
  },
  {
   "cell_type": "markdown",
   "metadata": {},
   "source": [
    "## Running time comparison"
   ]
  },
  {
   "cell_type": "code",
   "execution_count": null,
   "metadata": {},
   "outputs": [],
   "source": [
    "N, p = int(1e6), int(1e2)\n",
    "theta = np.ones(p)\n",
    "D = simulate_normal_data(theta=theta, size=(N, p))\n",
    "m = glm(\"gaussian\", \"identity\")"
   ]
  },
  {
   "cell_type": "code",
   "execution_count": null,
   "metadata": {},
   "outputs": [],
   "source": [
    "familia = sm.families.Gaussian(link=sm.families.links.identity())\n",
    "\n",
    "glm_bnch = sm.GLM(D._Y, D._X, family = familia)\n",
    "%time bnch_est = glm_bnch.fit()"
   ]
  },
  {
   "cell_type": "code",
   "execution_count": null,
   "metadata": {},
   "outputs": [],
   "source": [
    "timer = time\n",
    "# n: number of observations\n",
    "# p: number of features\n",
    "N, p = D._X.shape\n",
    "\n",
    "details = {\n",
    "    \"lr\": \"adagrad\",\n",
    "    \"lr_controls\": {\n",
    "        \"eta\": 1.0,\n",
    "        \"eps\": 1e-6\n",
    "    },\n",
    "    \"reltol\": 5e-4,\n",
    "    \"npasses\": 20,\n",
    "    \"size\": 10,\n",
    "    \"check\": True,\n",
    "    \"truth\": theta\n",
    "}\n",
    "\n",
    "tester = ImplicitSGD(N, p, timer, **details)\n",
    "%time sgd_est, converged, _ = sgd_iteration(sgd_obj=tester, D=D, m=m, averaging=False)"
   ]
  },
  {
   "cell_type": "code",
   "execution_count": null,
   "metadata": {},
   "outputs": [],
   "source": [
    "sgd_est"
   ]
  },
  {
   "cell_type": "markdown",
   "metadata": {},
   "source": [
    "## Poisson regression"
   ]
  },
  {
   "cell_type": "code",
   "execution_count": null,
   "metadata": {},
   "outputs": [],
   "source": [
    "# X = np.empty((n, p), dtype=np.float64)\n",
    "X = np.random.normal(0, 1, size=(n, p))\n",
    "# X = (X - np.mean(X, axis=0)) / np.std(X, axis=0)\n",
    "X = np.hstack((np.ones((n, 1)), X)) ## add intercept"
   ]
  },
  {
   "cell_type": "code",
   "execution_count": null,
   "metadata": {},
   "outputs": [],
   "source": [
    "theta = np.ones(p+1) * 0.4"
   ]
  },
  {
   "cell_type": "code",
   "execution_count": null,
   "metadata": {},
   "outputs": [],
   "source": [
    "## Gaussian\n",
    "eps = np.random.normal(0, 1, size=n)\n",
    "# Y = X @ theta + eps"
   ]
  },
  {
   "cell_type": "code",
   "execution_count": null,
   "metadata": {},
   "outputs": [],
   "source": [
    "## Poisson\n",
    "eta = np.exp(X @ theta)\n",
    "poisson = np.vectorize(lambda x: np.random.poisson(x, 1))\n",
    "Y = poisson(eta) + eps"
   ]
  },
  {
   "cell_type": "code",
   "execution_count": null,
   "metadata": {},
   "outputs": [],
   "source": [
    "D = data_set(X, Y)"
   ]
  },
  {
   "cell_type": "code",
   "execution_count": null,
   "metadata": {},
   "outputs": [],
   "source": [
    "familia = sm.families.Poisson(link=sm.families.links.log())\n",
    "\n",
    "glm_bnch = sm.GLM(D._Y, D._X, family = familia)\n",
    "true_est = glm_bnch.fit()\n",
    "# true_est.params"
   ]
  },
  {
   "cell_type": "code",
   "execution_count": null,
   "metadata": {},
   "outputs": [],
   "source": [
    "true_est.params"
   ]
  },
  {
   "cell_type": "code",
   "execution_count": null,
   "metadata": {},
   "outputs": [],
   "source": [
    "m = glm(\"poisson\", \"exponential\")"
   ]
  },
  {
   "cell_type": "code",
   "execution_count": null,
   "metadata": {},
   "outputs": [],
   "source": [
    "timer = time\n",
    "# n: number of observations\n",
    "# p: number of features\n",
    "n, p = D._X.shape\n",
    "\n",
    "details = {\n",
    "    \"lr\": \"adagrad\",\n",
    "    \"lr_controls\": {\n",
    "        \"scale\": 1.0,\n",
    "        \"alpha\": 1.0,\n",
    "        \"gamma\": 0.6,\n",
    "        \"c\": 0.5,\n",
    "        \"eta\": 1.0,\n",
    "        \"eps\": 1e-6\n",
    "    },\n",
    "    \"reltol\": 5e-4,\n",
    "    \"npasses\": 20,\n",
    "    \"size\": 10,\n",
    "    \"pass\": True,\n",
    "    \"check\": True,\n",
    "    \"truth\": theta\n",
    "}\n",
    "\n",
    "# tester = ExplicitSGD(n, p, timer, **details)\n",
    "tester = ImplicitSGD(n, p, timer, **details)"
   ]
  },
  {
   "cell_type": "code",
   "execution_count": null,
   "metadata": {
    "code_folding": []
   },
   "outputs": [],
   "source": [
    "n_passes = tester.get_value_of(\"n_passes\")\n",
    "good_gradient = True\n",
    "good_validity = True\n",
    "averaging = False\n",
    "theta_old = np.ones(p) / 100.0\n",
    "theta_old_ave = theta_old\n",
    "max_iters = n * n_passes\n",
    "converged = False\n",
    "\n",
    "t = 1\n",
    "\n",
    "while True:\n",
    "    theta_new = tester.update(t, theta_old, D, m, good_gradient)\n",
    "    if not averaging:\n",
    "        tester.sync_members(theta_new)\n",
    "        converged = tester.convergence(theta_new, theta_old)\n",
    "    else:\n",
    "        theta_new_ave = 0.5 * theta_old_ave + 0.5 * theta_new\n",
    "        tester.sync_members(theta_new_ave)\n",
    "        converged = tester.convergence(theta_new_ave, theta_old_ave)\n",
    "        theta_old_ave = theta_new_ave\n",
    "    if converged: break\n",
    "    theta_old = theta_new\n",
    "    if t == max_iters: break\n",
    "    t += 1"
   ]
  },
  {
   "cell_type": "code",
   "execution_count": null,
   "metadata": {},
   "outputs": [],
   "source": [
    "theta_new"
   ]
  },
  {
   "cell_type": "code",
   "execution_count": null,
   "metadata": {},
   "outputs": [],
   "source": [
    "converged"
   ]
  },
  {
   "cell_type": "markdown",
   "metadata": {},
   "source": [
    "#### Data from file"
   ]
  },
  {
   "cell_type": "code",
   "execution_count": null,
   "metadata": {},
   "outputs": [],
   "source": [
    "#data = sm.datasets.scotland.load()\n",
    "#data.exog = sm.add_constant(data.exog, prepend=False)\n",
    "#D = data_set(data.exog, data.endog)"
   ]
  },
  {
   "cell_type": "code",
   "execution_count": null,
   "metadata": {},
   "outputs": [],
   "source": [
    "#data = sm.datasets.scotland.load(as_pandas=True)\n",
    "#data.exog = sm.add_constant(data.exog, prepend=False)\n",
    "#data.exog[\"RESPONSE\"] = data.endog\n",
    "#data.exog.to_csv(os.path.join(\"/path/to/test_data.csv\"), index=False, encoding='UTF-8')"
   ]
  },
  {
   "cell_type": "code",
   "execution_count": null,
   "metadata": {},
   "outputs": [],
   "source": [
    "# from numpy import genfromtxt"
   ]
  },
  {
   "cell_type": "code",
   "execution_count": null,
   "metadata": {},
   "outputs": [],
   "source": [
    "# data = genfromtxt('test_data.csv', delimiter=',', encoding='UTF-8', skip_header=1)\n",
    "# D = data_set(data[:,1:], data[:,0])"
   ]
  }
 ],
 "metadata": {
  "kernelspec": {
   "display_name": "Python 3",
   "language": "python",
   "name": "python3"
  },
  "language_info": {
   "codemirror_mode": {
    "name": "ipython",
    "version": 3
   },
   "file_extension": ".py",
   "mimetype": "text/x-python",
   "name": "python",
   "nbconvert_exporter": "python",
   "pygments_lexer": "ipython3",
   "version": "3.8.4"
  }
 },
 "nbformat": 4,
 "nbformat_minor": 4
}
