{
 "cells": [
  {
   "cell_type": "code",
   "execution_count": null,
   "metadata": {},
   "outputs": [],
   "source": [
    "!pip3 install -e /Users/gva/Documents/PhD/workspace/sgd/"
   ]
  },
  {
   "cell_type": "code",
   "execution_count": null,
   "metadata": {},
   "outputs": [],
   "source": [
    "from sgd import *\n",
    "import time\n",
    "import statsmodels.api as sm\n",
    "# from sklearn.preprocessing import normalize"
   ]
  },
  {
   "cell_type": "code",
   "execution_count": null,
   "metadata": {},
   "outputs": [],
   "source": [
    "n, p = int(1e+5), int(1e+1)"
   ]
  },
  {
   "cell_type": "code",
   "execution_count": null,
   "metadata": {},
   "outputs": [],
   "source": [
    "X = np.empty((n, p), dtype=np.float64)\n",
    "X = np.random.normal(0, 1, size=(n, p))\n",
    "# X = (X - np.mean(X, axis=0)) / np.std(X, axis=0)\n",
    "X = np.hstack((np.ones((n, 1)), X)) ## add intercept"
   ]
  },
  {
   "cell_type": "code",
   "execution_count": null,
   "metadata": {},
   "outputs": [],
   "source": [
    "theta = np.ones(p+1) * 0.4"
   ]
  },
  {
   "cell_type": "code",
   "execution_count": null,
   "metadata": {},
   "outputs": [],
   "source": [
    "## Gaussian\n",
    "# eps = np.random.normal(0, 1, size=n)\n",
    "# Y = X @ theta + eps"
   ]
  },
  {
   "cell_type": "code",
   "execution_count": null,
   "metadata": {},
   "outputs": [],
   "source": [
    "## Poisson\n",
    "eta = np.exp(X @ theta)\n",
    "poisson = np.vectorize(lambda x: np.random.poisson(x, 1))\n",
    "Y = poisson(eta)"
   ]
  },
  {
   "cell_type": "code",
   "execution_count": null,
   "metadata": {},
   "outputs": [],
   "source": [
    "D = data_set(X, Y)"
   ]
  },
  {
   "cell_type": "code",
   "execution_count": null,
   "metadata": {},
   "outputs": [],
   "source": [
    "familia = sm.families.Poisson(link=sm.families.links.log())\n",
    "\n",
    "glm_bnch = sm.GLM(D._Y, D._X, family = familia)\n",
    "true_est = glm_bnch.fit()\n",
    "# true_est.params"
   ]
  },
  {
   "cell_type": "code",
   "execution_count": null,
   "metadata": {},
   "outputs": [],
   "source": [
    "true_est.params"
   ]
  },
  {
   "cell_type": "code",
   "execution_count": null,
   "metadata": {},
   "outputs": [],
   "source": [
    "m = glm(0.0, 0.0, \"poisson\", \"exponential\")"
   ]
  },
  {
   "cell_type": "code",
   "execution_count": null,
   "metadata": {},
   "outputs": [],
   "source": [
    "timer = time\n",
    "# n: number of observations\n",
    "# p: number of features\n",
    "n, p = D._X.shape\n",
    "\n",
    "details = {\n",
    "    \"method\": \"implicit\",\n",
    "    \"nparams\": p,\n",
    "    \"reltol\": 1e-32,\n",
    "    \"npasses\": 20,\n",
    "    \"size\": 10,\n",
    "    \"pass\": True,\n",
    "    \"check\": True,\n",
    "    \"truth\": theta\n",
    "}\n",
    "\n",
    "if details[\"method\"] == \"implicit\": tester = ImplicitSGD(n, timer, **details)\n",
    "elif details[\"method\"] == \"explicit\": tester = ExplicitSGD(n, timer, **details)"
   ]
  },
  {
   "cell_type": "code",
   "execution_count": null,
   "metadata": {},
   "outputs": [],
   "source": [
    "n_passes = tester.get_value_of(\"n_passes\")\n",
    "good_gradient = True\n",
    "good_validity = True\n",
    "averaging = False"
   ]
  },
  {
   "cell_type": "code",
   "execution_count": null,
   "metadata": {
    "code_folding": []
   },
   "outputs": [],
   "source": [
    "theta_old = np.ones(p) / 100.0\n",
    "theta_old_ave = theta_old\n",
    "max_iters = n * n_passes\n",
    "do_more_iterations = True\n",
    "converged = False\n",
    "\n",
    "t = 1\n",
    "\n",
    "while do_more_iterations:\n",
    "    theta_new = tester.update(t, theta_old, D, m, good_gradient)\n",
    "    if not averaging:\n",
    "        tester.sync_members(theta_new)\n",
    "        converged = tester.convergence(theta_new, theta_old)\n",
    "    else:\n",
    "        theta_new_ave = (1.0 - 1.0/float(t)) * theta_old_ave + (1.0/float(t)) * theta_new\n",
    "        tester.sync_members(theta_new_ave)\n",
    "        converged = tester.convergence(theta_new_ave, theta_old_ave)\n",
    "        theta_old_ave = theta_new_ave\n",
    "    if converged: do_more_iterations = False\n",
    "    theta_old = theta_new\n",
    "    if t == max_iters: do_more_iterations = False\n",
    "    t += 1"
   ]
  },
  {
   "cell_type": "code",
   "execution_count": null,
   "metadata": {},
   "outputs": [],
   "source": [
    "theta_new"
   ]
  },
  {
   "cell_type": "code",
   "execution_count": null,
   "metadata": {},
   "outputs": [],
   "source": [
    "converged"
   ]
  },
  {
   "cell_type": "markdown",
   "metadata": {},
   "source": [
    "#### Data from file"
   ]
  },
  {
   "cell_type": "code",
   "execution_count": null,
   "metadata": {},
   "outputs": [],
   "source": [
    "# from numpy import genfromtxt"
   ]
  },
  {
   "cell_type": "code",
   "execution_count": null,
   "metadata": {},
   "outputs": [],
   "source": [
    "# data = genfromtxt('glm_test.csv', delimiter=',', encoding='UTF-8', skip_header=1)"
   ]
  },
  {
   "cell_type": "code",
   "execution_count": null,
   "metadata": {},
   "outputs": [],
   "source": [
    "# D = data_set(data[:,1:], data[:,0])"
   ]
  },
  {
   "cell_type": "code",
   "execution_count": null,
   "metadata": {},
   "outputs": [],
   "source": [
    "#data = sm.datasets.scotland.load()\n",
    "#data.exog = sm.add_constant(data.exog, prepend=False)\n",
    "#D = data_set(data.exog, data.endog)"
   ]
  },
  {
   "cell_type": "code",
   "execution_count": null,
   "metadata": {},
   "outputs": [],
   "source": [
    "#data = sm.datasets.scotland.load(as_pandas=True)\n",
    "#data.exog = sm.add_constant(data.exog, prepend=False)\n",
    "#data.exog[\"RESPONSE\"] = data.endog\n",
    "#data.exog.to_csv(os.path.join(\"~/Documents/PhD/workspace/target/misc/glm_test.csv\"), index=False, encoding='UTF-8')"
   ]
  }
 ],
 "metadata": {
  "kernelspec": {
   "display_name": "Python 3",
   "language": "python",
   "name": "python3"
  },
  "language_info": {
   "codemirror_mode": {
    "name": "ipython",
    "version": 3
   },
   "file_extension": ".py",
   "mimetype": "text/x-python",
   "name": "python",
   "nbconvert_exporter": "python",
   "pygments_lexer": "ipython3",
   "version": "3.8.4"
  }
 },
 "nbformat": 4,
 "nbformat_minor": 4
}
